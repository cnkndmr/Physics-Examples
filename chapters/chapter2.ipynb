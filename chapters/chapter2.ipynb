{
 "cells": [
  {
   "cell_type": "code",
   "execution_count": 4,
   "metadata": {},
   "outputs": [],
   "source": [
    "from sympy import symbols\n",
    "\n",
    "problems=dict(ch2=[\"2.1\", \"2.2\"])\n",
    "problems=problems[\"ch2\"][0]"
   ]
  },
  {
   "cell_type": "code",
   "execution_count": 11,
   "metadata": {},
   "outputs": [
    {
     "name": "stdout",
     "output_type": "stream",
     "text": [
      "Problem 2.1 \n",
      "Q:\n",
      " A car travels in the x-direction on a straight and level road. For the first 4.00 s of its motion, the average velocity of the car is v av-x = 6.25 m/s . How far does the car travel in 4.00 s? \n",
      "A:\n",
      " 25.0*m\n"
     ]
    }
   ],
   "source": [
    "m, s= symbols('m s')\n",
    "    \n",
    "Q=\"A car travels in the x-direction on a straight and level road. For the first 4.00 s of its motion, the average velocity of the car is v av-x = 6.25 m/s . How far does the car travel in 4.00 s?\"\n",
    "\n",
    "A=((6.25*m/s)*4*s)\n",
    "\n",
    "print(\"Problem 2.1\", \"\\nQ:\\n\", Q, \n",
    "      \"\\nA:\\n\", A)"
   ]
  },
  {
   "cell_type": "code",
   "execution_count": null,
   "metadata": {},
   "outputs": [],
   "source": []
  },
  {
   "cell_type": "code",
   "execution_count": null,
   "metadata": {},
   "outputs": [],
   "source": []
  }
 ],
 "metadata": {
  "kernelspec": {
   "display_name": "Python 3",
   "language": "python",
   "name": "python3"
  },
  "language_info": {
   "codemirror_mode": {
    "name": "ipython",
    "version": 3
   },
   "file_extension": ".py",
   "mimetype": "text/x-python",
   "name": "python",
   "nbconvert_exporter": "python",
   "pygments_lexer": "ipython3",
   "version": "3.7.1"
  }
 },
 "nbformat": 4,
 "nbformat_minor": 2
}
